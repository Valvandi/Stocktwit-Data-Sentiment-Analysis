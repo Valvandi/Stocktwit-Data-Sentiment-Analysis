{
 "cells": [
  {
   "cell_type": "code",
   "execution_count": 3,
   "metadata": {},
   "outputs": [
    {
     "name": "stdout",
     "output_type": "stream",
     "text": [
      "Cloning into 'Stocktwit-Data-Sentiment-Analysis'...\n",
      "remote: Enumerating objects: 3, done.\u001b[K\n",
      "remote: Counting objects: 100% (3/3), done.\u001b[K\n",
      "remote: Compressing objects: 100% (2/2), done.\u001b[K\n",
      "remote: Total 3 (delta 0), reused 0 (delta 0), pack-reused 0\u001b[K\n",
      "Unpacking objects: 100% (3/3), done.\n"
     ]
    }
   ],
   "source": [
]
  },
  {
   "cell_type": "code",
   "execution_count": null,
   "metadata": {},
   "outputs": [],
   "source": []
  },
  {
   "cell_type": "code",
   "execution_count": 1,
   "metadata": {},
   "outputs": [],
   "source": [
    "import json\n",
    "import pandas as pd\n",
    "import numpy as np\n",
    "import seaborn as sns\n",
    "import matplotlib.pyplot as plt\n",
    "\n",
    "%matplotlib inline"
   ]
  },
  {
   "cell_type": "code",
   "execution_count": 2,
   "metadata": {},
   "outputs": [],
   "source": [
    "files = ['file1.json', 'file2.json', 'file3.json', 'file4.json', 'file5.json', \n",
    "         'file6.json', 'file7.json', 'file8.json', 'file9.json', \n",
    "         'file10.json', 'file11.json','file12.json', 'file13.json',\n",
    "         'file14.json', 'file15.json', 'file16.json', 'file17.json', \n",
    "         'file18.json','file19.json','file20.json','file21.json','file22.json',\n",
    "         'file23.json','file24.json','file25.json','file26.json','file27.json', 'file28.json',\n",
    "         'file29.json', 'file30.json', 'file31.json', 'file32.json', 'file33.json',\n",
    "         'file34.json', 'file35.json', 'file36.json', 'file37.json', 'file38.json', 'file39.json',\n",
    "         'file40.json', 'file41.json', 'file42.json', 'file43.json', 'file44.json', 'file45.json',\n",
    "         'file46.json', 'file47.json', 'file48.json', 'file49.json', 'file50.json','file51.json',\n",
    "         'file52.json', 'file53.json', 'file54.json', 'file55.json', 'file56.json', 'file57.json',\n",
    "         'file58.json', 'file59.json', 'file60.json', 'file61.json', 'file62.json', 'file63.json', \n",
    "         'file64.json', 'file65.json', 'file66.json', 'file67.json', 'file68.json', 'file69.json',\n",
    "         'file70.json', 'file71.json', 'file72.json','file73.json','file74.json','file75.json','file76.json',\n",
    "         'file77.json','file78.json',  'file79.json','file80.json','file81.json',\n",
    "         'file82.json','file82.json',  'file83.json','file84.json','file85.json',\n",
    "         'file86.json','file87.json',  'file88.json','file89.json','file90.json',\n",
    "         'file91.json','file91.json',  'file92.json','file93.json','file94.json',\n",
    "         'file95.json','file96.json',  'file97.json','file98.json','file99.json',\n",
    "         'file100.json','file101.json','file102.json','file103.json','file104.json',\n",
    "         'file105.json','file106.json','file107.json','file108.json','file109.json','file110.json',\n",
    "         'file111.json','file112.json','file113.json','file114.json','file115.json','file116.json',\n",
    "         'file117.json','file118.json','file119.json','file120.json','file121.json','file122.json',\n",
    "         'file123.json','file124.json','file125.json','file126.json','file127.json','file128.json',\n",
    "         'file129.json','file130.json', 'file131.json','file132.json','file133.json','file134.json',\n",
    "         'file135.json','file136.json','file137.json','file138.json','file139.json','file140.json',\n",
    "         'file141.json','file142.json','file143.json','file144.json','file145.json','file146.json',\n",
    "         'file147.json','file148.json','file149.json','file150.json','file151.json','file152.json',\n",
    "         'file153.json','file154.json','file155.json','file156.json','file157.json','file158.json',\n",
    "         'file159.json','file160.json','file161.json'\n",
    "    ]"
   ]
  },
  {
   "cell_type": "code",
   "execution_count": 3,
   "metadata": {},
   "outputs": [],
   "source": [
    "def stripper(x):\n",
    "    if (x != None):\n",
    "        return x['basic']\n",
    "    else:\n",
    "        return x"
   ]
  },
  {
   "cell_type": "code",
   "execution_count": 4,
   "metadata": {},
   "outputs": [],
   "source": [
    "arr = []\n",
    "for file in files:\n",
    "    with open(file, \"r\") as read_file:\n",
    "        data = json.load(read_file)\n",
    "        \n",
    "        for row in data:\n",
    "            temp = {\n",
    "                \"created_at\": row['created_at'],\n",
    "                \"user_id\": row['user']['id'],\n",
    "                \"username\": row['user']['username'],\n",
    "                \"stocktwit\": row['body'],\n",
    "                \"sentiment\": row['entities']['sentiment']\n",
    "            }\n",
    "            arr.append(temp)\n",
    "        \n",
    "    \n",
    "df = pd.DataFrame(arr)"
   ]
  },
  {
   "cell_type": "code",
   "execution_count": 5,
   "metadata": {},
   "outputs": [],
   "source": [
    "df['sentiment'] = df['sentiment'].apply(lambda x: stripper(x))"
   ]
  },
  {
   "cell_type": "code",
   "execution_count": 6,
   "metadata": {},
   "outputs": [
    {
     "name": "stdout",
     "output_type": "stream",
     "text": [
      "--Print the Basic Info of the data ---\n",
      "----------------------------------------\n",
      "<class 'pandas.core.frame.DataFrame'>\n",
      "RangeIndex: 4890 entries, 0 to 4889\n",
      "Data columns (total 5 columns):\n",
      "created_at    4890 non-null object\n",
      "sentiment     1800 non-null object\n",
      "stocktwit     4890 non-null object\n",
      "user_id       4890 non-null int64\n",
      "username      4890 non-null object\n",
      "dtypes: int64(1), object(4)\n",
      "memory usage: 191.1+ KB\n",
      "None\n",
      "----------------Data dimension------------------------\n",
      "(4890, 5)\n",
      "------------------------------------------------------\n"
     ]
    }
   ],
   "source": [
    "print('--Print the Basic Info of the data ---')\n",
    "print('----------------------------------------')\n",
    "print(df.info())\n",
    "print('----------------Data dimension------------------------')\n",
    "print(df.shape)\n",
    "print('------------------------------------------------------')"
   ]
  },
  {
   "cell_type": "code",
   "execution_count": 7,
   "metadata": {},
   "outputs": [],
   "source": [
    "df.dropna(axis=0, inplace=True)"
   ]
  },
  {
   "cell_type": "code",
   "execution_count": 8,
   "metadata": {},
   "outputs": [
    {
     "data": {
      "text/html": [
       "<div>\n",
       "<style scoped>\n",
       "    .dataframe tbody tr th:only-of-type {\n",
       "        vertical-align: middle;\n",
       "    }\n",
       "\n",
       "    .dataframe tbody tr th {\n",
       "        vertical-align: top;\n",
       "    }\n",
       "\n",
       "    .dataframe thead th {\n",
       "        text-align: right;\n",
       "    }\n",
       "</style>\n",
       "<table border=\"1\" class=\"dataframe\">\n",
       "  <thead>\n",
       "    <tr style=\"text-align: right;\">\n",
       "      <th></th>\n",
       "      <th>DATA SET COLUMNS</th>\n",
       "    </tr>\n",
       "  </thead>\n",
       "  <tbody>\n",
       "    <tr>\n",
       "      <th>1</th>\n",
       "      <td>created_at</td>\n",
       "    </tr>\n",
       "    <tr>\n",
       "      <th>2</th>\n",
       "      <td>sentiment</td>\n",
       "    </tr>\n",
       "    <tr>\n",
       "      <th>3</th>\n",
       "      <td>stocktwit</td>\n",
       "    </tr>\n",
       "    <tr>\n",
       "      <th>4</th>\n",
       "      <td>user_id</td>\n",
       "    </tr>\n",
       "    <tr>\n",
       "      <th>5</th>\n",
       "      <td>username</td>\n",
       "    </tr>\n",
       "  </tbody>\n",
       "</table>\n",
       "</div>"
      ],
      "text/plain": [
       "  DATA SET COLUMNS\n",
       "1       created_at\n",
       "2        sentiment\n",
       "3        stocktwit\n",
       "4          user_id\n",
       "5         username"
      ]
     },
     "execution_count": 8,
     "metadata": {},
     "output_type": "execute_result"
    }
   ],
   "source": [
    "pd.DataFrame(df.columns,columns=['DATA SET COLUMNS'], index=[1,2,3,4,5])"
   ]
  },
  {
   "cell_type": "code",
   "execution_count": 9,
   "metadata": {},
   "outputs": [],
   "source": [
    "df['length'] = df['stocktwit'].apply(len)"
   ]
  },
  {
   "cell_type": "code",
   "execution_count": 10,
   "metadata": {
    "scrolled": true
   },
   "outputs": [
    {
     "data": {
      "text/plain": [
       "<matplotlib.axes._subplots.AxesSubplot at 0x1a140fcac8>"
      ]
     },
     "execution_count": 10,
     "metadata": {},
     "output_type": "execute_result"
    },
    {
     "data": {
      "image/png": "[encoded data removed]",
      "text/plain": [
       "<Figure size 432x288 with 1 Axes>"
      ]
     },
     "metadata": {
      "needs_background": "light"
     },
     "output_type": "display_data"
    }
   ],
   "source": [
    "sns.barplot(data=df, x='sentiment', y='length' )"
   ]
  },
  {
   "cell_type": "code",
   "execution_count": 11,
   "metadata": {},
   "outputs": [
    {
     "name": "stdout",
     "output_type": "stream",
     "text": [
      "Number of Missing Values:  0\n"
     ]
    }
   ],
   "source": [
    "print(\"Number of Missing Values: \",df['sentiment'].isnull().values.ravel().sum())"
   ]
  },
  {
   "cell_type": "code",
   "execution_count": 12,
   "metadata": {},
   "outputs": [
    {
     "data": {
      "text/html": [
       "<div>\n",
       "<style scoped>\n",
       "    .dataframe tbody tr th:only-of-type {\n",
       "        vertical-align: middle;\n",
       "    }\n",
       "\n",
       "    .dataframe tbody tr th {\n",
       "        vertical-align: top;\n",
       "    }\n",
       "\n",
       "    .dataframe thead th {\n",
       "        text-align: right;\n",
       "    }\n",
       "</style>\n",
       "<table border=\"1\" class=\"dataframe\">\n",
       "  <thead>\n",
       "    <tr style=\"text-align: right;\">\n",
       "      <th></th>\n",
       "      <th>user_id</th>\n",
       "      <th>length</th>\n",
       "    </tr>\n",
       "  </thead>\n",
       "  <tbody>\n",
       "    <tr>\n",
       "      <th>count</th>\n",
       "      <td>1.800000e+03</td>\n",
       "      <td>1800.000000</td>\n",
       "    </tr>\n",
       "    <tr>\n",
       "      <th>mean</th>\n",
       "      <td>1.118727e+06</td>\n",
       "      <td>72.304444</td>\n",
       "    </tr>\n",
       "    <tr>\n",
       "      <th>std</th>\n",
       "      <td>4.785595e+05</td>\n",
       "      <td>42.330243</td>\n",
       "    </tr>\n",
       "    <tr>\n",
       "      <th>min</th>\n",
       "      <td>6.273700e+04</td>\n",
       "      <td>4.000000</td>\n",
       "    </tr>\n",
       "    <tr>\n",
       "      <th>25%</th>\n",
       "      <td>7.205740e+05</td>\n",
       "      <td>37.000000</td>\n",
       "    </tr>\n",
       "    <tr>\n",
       "      <th>50%</th>\n",
       "      <td>1.271536e+06</td>\n",
       "      <td>68.000000</td>\n",
       "    </tr>\n",
       "    <tr>\n",
       "      <th>75%</th>\n",
       "      <td>1.494507e+06</td>\n",
       "      <td>106.000000</td>\n",
       "    </tr>\n",
       "    <tr>\n",
       "      <th>max</th>\n",
       "      <td>1.780929e+06</td>\n",
       "      <td>241.000000</td>\n",
       "    </tr>\n",
       "  </tbody>\n",
       "</table>\n",
       "</div>"
      ],
      "text/plain": [
       "            user_id       length\n",
       "count  1.800000e+03  1800.000000\n",
       "mean   1.118727e+06    72.304444\n",
       "std    4.785595e+05    42.330243\n",
       "min    6.273700e+04     4.000000\n",
       "25%    7.205740e+05    37.000000\n",
       "50%    1.271536e+06    68.000000\n",
       "75%    1.494507e+06   106.000000\n",
       "max    1.780929e+06   241.000000"
      ]
     },
     "execution_count": 12,
     "metadata": {},
     "output_type": "execute_result"
    }
   ],
   "source": [
    "df.describe()"
   ]
  },
  {
   "cell_type": "code",
   "execution_count": 13,
   "metadata": {},
   "outputs": [
    {
     "data": {
      "text/plain": [
       "1800"
      ]
     },
     "execution_count": 13,
     "metadata": {},
     "output_type": "execute_result"
    }
   ],
   "source": [
    "len(df)"
   ]
  },
  {
   "cell_type": "code",
   "execution_count": 14,
   "metadata": {},
   "outputs": [
    {
     "data": {
      "text/html": [
       "<div>\n",
       "<style scoped>\n",
       "    .dataframe tbody tr th:only-of-type {\n",
       "        vertical-align: middle;\n",
       "    }\n",
       "\n",
       "    .dataframe tbody tr th {\n",
       "        vertical-align: top;\n",
       "    }\n",
       "\n",
       "    .dataframe thead tr th {\n",
       "        text-align: left;\n",
       "    }\n",
       "\n",
       "    .dataframe thead tr:last-of-type th {\n",
       "        text-align: right;\n",
       "    }\n",
       "</style>\n",
       "<table border=\"1\" class=\"dataframe\">\n",
       "  <thead>\n",
       "    <tr>\n",
       "      <th></th>\n",
       "      <th colspan=\"8\" halign=\"left\">length</th>\n",
       "      <th colspan=\"8\" halign=\"left\">user_id</th>\n",
       "    </tr>\n",
       "    <tr>\n",
       "      <th></th>\n",
       "      <th>count</th>\n",
       "      <th>mean</th>\n",
       "      <th>std</th>\n",
       "      <th>min</th>\n",
       "      <th>25%</th>\n",
       "      <th>50%</th>\n",
       "      <th>75%</th>\n",
       "      <th>max</th>\n",
       "      <th>count</th>\n",
       "      <th>mean</th>\n",
       "      <th>std</th>\n",
       "      <th>min</th>\n",
       "      <th>25%</th>\n",
       "      <th>50%</th>\n",
       "      <th>75%</th>\n",
       "      <th>max</th>\n",
       "    </tr>\n",
       "    <tr>\n",
       "      <th>sentiment</th>\n",
       "      <th></th>\n",
       "      <th></th>\n",
       "      <th></th>\n",
       "      <th></th>\n",
       "      <th></th>\n",
       "      <th></th>\n",
       "      <th></th>\n",
       "      <th></th>\n",
       "      <th></th>\n",
       "      <th></th>\n",
       "      <th></th>\n",
       "      <th></th>\n",
       "      <th></th>\n",
       "      <th></th>\n",
       "      <th></th>\n",
       "      <th></th>\n",
       "    </tr>\n",
       "  </thead>\n",
       "  <tbody>\n",
       "    <tr>\n",
       "      <th>Bearish</th>\n",
       "      <td>558.0</td>\n",
       "      <td>75.944444</td>\n",
       "      <td>41.816159</td>\n",
       "      <td>4.0</td>\n",
       "      <td>41.0</td>\n",
       "      <td>76.0</td>\n",
       "      <td>108.0</td>\n",
       "      <td>169.0</td>\n",
       "      <td>558.0</td>\n",
       "      <td>1.101680e+06</td>\n",
       "      <td>504944.430485</td>\n",
       "      <td>63619.0</td>\n",
       "      <td>713758.0</td>\n",
       "      <td>1245112.0</td>\n",
       "      <td>1542428.0</td>\n",
       "      <td>1776306.0</td>\n",
       "    </tr>\n",
       "    <tr>\n",
       "      <th>Bullish</th>\n",
       "      <td>1242.0</td>\n",
       "      <td>70.669082</td>\n",
       "      <td>42.474403</td>\n",
       "      <td>4.0</td>\n",
       "      <td>34.0</td>\n",
       "      <td>65.0</td>\n",
       "      <td>105.0</td>\n",
       "      <td>241.0</td>\n",
       "      <td>1242.0</td>\n",
       "      <td>1.126386e+06</td>\n",
       "      <td>466226.749302</td>\n",
       "      <td>62737.0</td>\n",
       "      <td>739083.0</td>\n",
       "      <td>1280283.0</td>\n",
       "      <td>1465241.0</td>\n",
       "      <td>1780929.0</td>\n",
       "    </tr>\n",
       "  </tbody>\n",
       "</table>\n",
       "</div>"
      ],
      "text/plain": [
       "           length                                                       \\\n",
       "            count       mean        std  min   25%   50%    75%    max   \n",
       "sentiment                                                                \n",
       "Bearish     558.0  75.944444  41.816159  4.0  41.0  76.0  108.0  169.0   \n",
       "Bullish    1242.0  70.669082  42.474403  4.0  34.0  65.0  105.0  241.0   \n",
       "\n",
       "          user_id                                                             \\\n",
       "            count          mean            std      min       25%        50%   \n",
       "sentiment                                                                      \n",
       "Bearish     558.0  1.101680e+06  504944.430485  63619.0  713758.0  1245112.0   \n",
       "Bullish    1242.0  1.126386e+06  466226.749302  62737.0  739083.0  1280283.0   \n",
       "\n",
       "                                 \n",
       "                 75%        max  \n",
       "sentiment                        \n",
       "Bearish    1542428.0  1776306.0  \n",
       "Bullish    1465241.0  1780929.0  "
      ]
     },
     "execution_count": 14,
     "metadata": {},
     "output_type": "execute_result"
    }
   ],
   "source": [
    "df.groupby('sentiment').describe()"
   ]
  },
  {
   "cell_type": "code",
   "execution_count": 15,
   "metadata": {},
   "outputs": [
    {
     "name": "stdout",
     "output_type": "stream",
     "text": [
      "AxesSubplot(0.125,0.125;0.775x0.755)\n",
      "Text(0.5, 1.0, 'Histogram showing Length of messages')\n"
     ]
    },
    {
     "data": {
      "image/png": "[encoded data removed]",
      "text/plain": [
       "<Figure size 432x288 with 1 Axes>"
      ]
     },
     "metadata": {
      "needs_background": "light"
     },
     "output_type": "display_data"
    }
   ],
   "source": [
    "print(df['length'].plot(bins=20, kind='hist', colormap='viridis') )\n",
    "print(plt.title('Histogram showing Length of messages'))"
   ]
  },
  {
   "cell_type": "code",
   "execution_count": 16,
   "metadata": {},
   "outputs": [
    {
     "data": {
      "text/plain": [
       "count    1800.000000\n",
       "mean       72.304444\n",
       "std        42.330243\n",
       "min         4.000000\n",
       "25%        37.000000\n",
       "50%        68.000000\n",
       "75%       106.000000\n",
       "max       241.000000\n",
       "Name: length, dtype: float64"
      ]
     },
     "execution_count": 16,
     "metadata": {},
     "output_type": "execute_result"
    }
   ],
   "source": [
    "df['length'].describe()"
   ]
  },
  {
   "cell_type": "code",
   "execution_count": 44,
   "metadata": {},
   "outputs": [],
   "source": [
    "import datetime as datetime"
   ]
  },
  {
   "cell_type": "code",
   "execution_count": 45,
   "metadata": {},
   "outputs": [],
   "source": [
    "import datetime\n",
    "import time"
   ]
  },
  {
   "cell_type": "code",
   "execution_count": null,
   "metadata": {},
   "outputs": [],
   "source": []
  },
  {
   "cell_type": "code",
   "execution_count": 46,
   "metadata": {},
   "outputs": [
    {
     "ename": "AttributeError",
     "evalue": "'str' object has no attribute 'date'",
     "output_type": "error",
     "traceback": [
      "\u001b[0;31m---------------------------------------------------------------------------\u001b[0m",
      "\u001b[0;31mAttributeError\u001b[0m                            Traceback (most recent call last)",
      "\u001b[0;32m<ipython-input-46-005d0972e9cd>\u001b[0m in \u001b[0;36m<module>\u001b[0;34m()\u001b[0m\n\u001b[0;32m----> 1\u001b[0;31m \u001b[0mdf\u001b[0m\u001b[0;34m[\u001b[0m\u001b[0;34m'new date'\u001b[0m\u001b[0;34m]\u001b[0m \u001b[0;34m=\u001b[0m \u001b[0;34m[\u001b[0m\u001b[0md\u001b[0m\u001b[0;34m.\u001b[0m\u001b[0mdate\u001b[0m\u001b[0;34m(\u001b[0m\u001b[0;34m)\u001b[0m \u001b[0;32mfor\u001b[0m \u001b[0md\u001b[0m \u001b[0;32min\u001b[0m \u001b[0mdf\u001b[0m\u001b[0;34m[\u001b[0m\u001b[0;34m'created_at'\u001b[0m\u001b[0;34m]\u001b[0m\u001b[0;34m]\u001b[0m\u001b[0;34m\u001b[0m\u001b[0m\n\u001b[0m\u001b[1;32m      2\u001b[0m \u001b[0mdf\u001b[0m\u001b[0;34m[\u001b[0m\u001b[0;34m'new time '\u001b[0m\u001b[0;34m]\u001b[0m \u001b[0;34m=\u001b[0m \u001b[0;34m[\u001b[0m\u001b[0md\u001b[0m\u001b[0;34m.\u001b[0m\u001b[0mtime\u001b[0m\u001b[0;34m(\u001b[0m\u001b[0;34m)\u001b[0m \u001b[0;32mfor\u001b[0m \u001b[0md\u001b[0m \u001b[0;32min\u001b[0m \u001b[0mdf\u001b[0m\u001b[0;34m[\u001b[0m\u001b[0;34m'created_at'\u001b[0m\u001b[0;34m]\u001b[0m\u001b[0;34m]\u001b[0m\u001b[0;34m\u001b[0m\u001b[0m\n",
      "\u001b[0;32m<ipython-input-46-005d0972e9cd>\u001b[0m in \u001b[0;36m<listcomp>\u001b[0;34m(.0)\u001b[0m\n\u001b[0;32m----> 1\u001b[0;31m \u001b[0mdf\u001b[0m\u001b[0;34m[\u001b[0m\u001b[0;34m'new date'\u001b[0m\u001b[0;34m]\u001b[0m \u001b[0;34m=\u001b[0m \u001b[0;34m[\u001b[0m\u001b[0md\u001b[0m\u001b[0;34m.\u001b[0m\u001b[0mdate\u001b[0m\u001b[0;34m(\u001b[0m\u001b[0;34m)\u001b[0m \u001b[0;32mfor\u001b[0m \u001b[0md\u001b[0m \u001b[0;32min\u001b[0m \u001b[0mdf\u001b[0m\u001b[0;34m[\u001b[0m\u001b[0;34m'created_at'\u001b[0m\u001b[0;34m]\u001b[0m\u001b[0;34m]\u001b[0m\u001b[0;34m\u001b[0m\u001b[0m\n\u001b[0m\u001b[1;32m      2\u001b[0m \u001b[0mdf\u001b[0m\u001b[0;34m[\u001b[0m\u001b[0;34m'new time '\u001b[0m\u001b[0;34m]\u001b[0m \u001b[0;34m=\u001b[0m \u001b[0;34m[\u001b[0m\u001b[0md\u001b[0m\u001b[0;34m.\u001b[0m\u001b[0mtime\u001b[0m\u001b[0;34m(\u001b[0m\u001b[0;34m)\u001b[0m \u001b[0;32mfor\u001b[0m \u001b[0md\u001b[0m \u001b[0;32min\u001b[0m \u001b[0mdf\u001b[0m\u001b[0;34m[\u001b[0m\u001b[0;34m'created_at'\u001b[0m\u001b[0;34m]\u001b[0m\u001b[0;34m]\u001b[0m\u001b[0;34m\u001b[0m\u001b[0m\n",
      "\u001b[0;31mAttributeError\u001b[0m: 'str' object has no attribute 'date'"
     ]
    }
   ],
   "source": [
    "df['new date'] = [d.date() for d in df['created_at']]\n",
    "df['new time '] = [d.time() for d in df['created_at']]"
   ]
  },
  {
   "cell_type": "code",
   "execution_count": null,
   "metadata": {},
   "outputs": [],
   "source": []
  },
  {
   "cell_type": "code",
   "execution_count": 80,
   "metadata": {},
   "outputs": [
    {
     "data": {
      "text/html": [
       "<div>\n",
       "<style scoped>\n",
       "    .dataframe tbody tr th:only-of-type {\n",
       "        vertical-align: middle;\n",
       "    }\n",
       "\n",
       "    .dataframe tbody tr th {\n",
       "        vertical-align: top;\n",
       "    }\n",
       "\n",
       "    .dataframe thead th {\n",
       "        text-align: right;\n",
       "    }\n",
       "</style>\n",
       "<table border=\"1\" class=\"dataframe\">\n",
       "  <thead>\n",
       "    <tr style=\"text-align: right;\">\n",
       "      <th></th>\n",
       "      <th>created_at</th>\n",
       "      <th>sentiment</th>\n",
       "      <th>stocktwit</th>\n",
       "      <th>user_id</th>\n",
       "      <th>username</th>\n",
       "      <th>length</th>\n",
       "    </tr>\n",
       "  </thead>\n",
       "  <tbody>\n",
       "    <tr>\n",
       "      <th>1920</th>\n",
       "      <td>2018-12-12T10:00:02Z</td>\n",
       "      <td>Bullish</td>\n",
       "      <td>Cannabis Stocks Move Amid Report Cuomo Will Pr...</td>\n",
       "      <td>447907</td>\n",
       "      <td>rbuckner</td>\n",
       "      <td>241</td>\n",
       "    </tr>\n",
       "    <tr>\n",
       "      <th>1951</th>\n",
       "      <td>2018-12-12T10:00:02Z</td>\n",
       "      <td>Bullish</td>\n",
       "      <td>Cannabis Stocks Move Amid Report Cuomo Will Pr...</td>\n",
       "      <td>447907</td>\n",
       "      <td>rbuckner</td>\n",
       "      <td>241</td>\n",
       "    </tr>\n",
       "  </tbody>\n",
       "</table>\n",
       "</div>"
      ],
      "text/plain": [
       "                created_at sentiment  \\\n",
       "1920  2018-12-12T10:00:02Z   Bullish   \n",
       "1951  2018-12-12T10:00:02Z   Bullish   \n",
       "\n",
       "                                              stocktwit  user_id  username  \\\n",
       "1920  Cannabis Stocks Move Amid Report Cuomo Will Pr...   447907  rbuckner   \n",
       "1951  Cannabis Stocks Move Amid Report Cuomo Will Pr...   447907  rbuckner   \n",
       "\n",
       "      length  \n",
       "1920     241  \n",
       "1951     241  "
      ]
     },
     "execution_count": 80,
     "metadata": {},
     "output_type": "execute_result"
    }
   ],
   "source": [
    "df[df['length'] == 241]"
   ]
  },
  {
   "cell_type": "code",
   "execution_count": 81,
   "metadata": {},
   "outputs": [
    {
     "data": {
      "text/plain": [
       "['i', 'me', 'my', 'myself', 'we']"
      ]
     },
     "execution_count": 81,
     "metadata": {},
     "output_type": "execute_result"
    }
   ],
   "source": [
    "import string\n",
    "\n",
    "mess = 'Sample message! Notice: it has punctuation.'\n",
    "# Check characters to see if they are in punctuation\n",
    "nopunc = [char for char in mess if char not in string.punctuation]\n",
    "\n",
    "\n",
    "# Join the characters again to form the string.\n",
    "nopunc = ''.join(nopunc)\n",
    "\n",
    "from nltk.corpus import stopwords\n",
    "stopwords.words('english')[0:5] # Show some stop words"
   ]
  },
  {
   "cell_type": "code",
   "execution_count": 82,
   "metadata": {},
   "outputs": [
    {
     "data": {
      "text/plain": [
       "['Sample', 'message', 'Notice', 'it', 'has', 'punctuation']"
      ]
     },
     "execution_count": 82,
     "metadata": {},
     "output_type": "execute_result"
    }
   ],
   "source": [
    "nopunc.split()"
   ]
  },
  {
   "cell_type": "code",
   "execution_count": 83,
   "metadata": {},
   "outputs": [],
   "source": [
    "# Now just remove any stopwords\n",
    "clean_mess = [word for word in nopunc.split() if word.lower() not in stopwords.words('english')]"
   ]
  },
  {
   "cell_type": "code",
   "execution_count": 84,
   "metadata": {},
   "outputs": [
    {
     "data": {
      "text/plain": [
       "['Sample', 'message', 'Notice', 'punctuation']"
      ]
     },
     "execution_count": 84,
     "metadata": {},
     "output_type": "execute_result"
    }
   ],
   "source": [
    "clean_mess"
   ]
  },
  {
   "cell_type": "code",
   "execution_count": 85,
   "metadata": {},
   "outputs": [],
   "source": [
    "def text_process(mess):\n",
    "    \"\"\"\n",
    "    Takes in a string of text, then performs the following:\n",
    "    1. Remove all punctuation\n",
    "    2. Remove all stopwords\n",
    "    3. Returns a list of the cleaned text\n",
    "    \"\"\"\n",
    "    #check to see if characters are in punctuation\n",
    "    nopunc = [char for char in mess if char not in string.punctuation]\n",
    "    \n",
    "    #Join the characters again to form a string\n",
    "    nopunc = ''.join(nopunc)\n",
    "    \n",
    "    #remove stopwords\n",
    "    return[word for word in nopunc.split() if word.lower() not in stopwords.words('english')]"
   ]
  },
  {
   "cell_type": "code",
   "execution_count": 86,
   "metadata": {},
   "outputs": [
    {
     "data": {
      "text/html": [
       "<div>\n",
       "<style scoped>\n",
       "    .dataframe tbody tr th:only-of-type {\n",
       "        vertical-align: middle;\n",
       "    }\n",
       "\n",
       "    .dataframe tbody tr th {\n",
       "        vertical-align: top;\n",
       "    }\n",
       "\n",
       "    .dataframe thead th {\n",
       "        text-align: right;\n",
       "    }\n",
       "</style>\n",
       "<table border=\"1\" class=\"dataframe\">\n",
       "  <thead>\n",
       "    <tr style=\"text-align: right;\">\n",
       "      <th></th>\n",
       "      <th>created_at</th>\n",
       "      <th>sentiment</th>\n",
       "      <th>stocktwit</th>\n",
       "      <th>user_id</th>\n",
       "      <th>username</th>\n",
       "      <th>length</th>\n",
       "    </tr>\n",
       "  </thead>\n",
       "  <tbody>\n",
       "    <tr>\n",
       "      <th>0</th>\n",
       "      <td>2018-09-25T18:10:43Z</td>\n",
       "      <td>Bullish</td>\n",
       "      <td>$DGAZ this is a gift. im going to make so much...</td>\n",
       "      <td>1404428</td>\n",
       "      <td>raleigh_trader</td>\n",
       "      <td>69</td>\n",
       "    </tr>\n",
       "    <tr>\n",
       "      <th>1</th>\n",
       "      <td>2018-09-25T18:10:43Z</td>\n",
       "      <td>Bullish</td>\n",
       "      <td>$SQ I don’t Wana hear these sold shares too ea...</td>\n",
       "      <td>1478438</td>\n",
       "      <td>rhenderson513</td>\n",
       "      <td>116</td>\n",
       "    </tr>\n",
       "    <tr>\n",
       "      <th>2</th>\n",
       "      <td>2018-09-25T18:10:42Z</td>\n",
       "      <td>Bullish</td>\n",
       "      <td>$SQ Support &amp;amp; Resistance is Critical - All...</td>\n",
       "      <td>914650</td>\n",
       "      <td>TekMuNNee</td>\n",
       "      <td>152</td>\n",
       "    </tr>\n",
       "    <tr>\n",
       "      <th>4</th>\n",
       "      <td>2018-09-25T18:10:32Z</td>\n",
       "      <td>Bullish</td>\n",
       "      <td>$SQ people loading up on them 100$ calls now!!...</td>\n",
       "      <td>1501117</td>\n",
       "      <td>BTFD501</td>\n",
       "      <td>97</td>\n",
       "    </tr>\n",
       "    <tr>\n",
       "      <th>5</th>\n",
       "      <td>2018-09-25T18:10:32Z</td>\n",
       "      <td>Bearish</td>\n",
       "      <td>$SQ</td>\n",
       "      <td>1268034</td>\n",
       "      <td>TheBewb2</td>\n",
       "      <td>4</td>\n",
       "    </tr>\n",
       "  </tbody>\n",
       "</table>\n",
       "</div>"
      ],
      "text/plain": [
       "             created_at sentiment  \\\n",
       "0  2018-09-25T18:10:43Z   Bullish   \n",
       "1  2018-09-25T18:10:43Z   Bullish   \n",
       "2  2018-09-25T18:10:42Z   Bullish   \n",
       "4  2018-09-25T18:10:32Z   Bullish   \n",
       "5  2018-09-25T18:10:32Z   Bearish   \n",
       "\n",
       "                                           stocktwit  user_id        username  \\\n",
       "0  $DGAZ this is a gift. im going to make so much...  1404428  raleigh_trader   \n",
       "1  $SQ I don’t Wana hear these sold shares too ea...  1478438   rhenderson513   \n",
       "2  $SQ Support &amp; Resistance is Critical - All...   914650       TekMuNNee   \n",
       "4  $SQ people loading up on them 100$ calls now!!...  1501117         BTFD501   \n",
       "5                                               $SQ   1268034        TheBewb2   \n",
       "\n",
       "   length  \n",
       "0      69  \n",
       "1     116  \n",
       "2     152  \n",
       "4      97  \n",
       "5       4  "
      ]
     },
     "execution_count": 86,
     "metadata": {},
     "output_type": "execute_result"
    }
   ],
   "source": [
    "df.head()"
   ]
  },
  {
   "cell_type": "code",
   "execution_count": 87,
   "metadata": {},
   "outputs": [
    {
     "data": {
      "text/plain": [
       "0       [DGAZ, gift, im, going, make, much, coin, reve...\n",
       "1       [SQ, don’t, Wana, hear, sold, shares, early, s...\n",
       "2       [SQ, Support, amp, Resistance, Critical, Allow...\n",
       "4       [SQ, people, loading, 100, calls, Whaaaa, come...\n",
       "5                                                    [SQ]\n",
       "6       [VSTM, used, invest, biotech, stock, KERX, wou...\n",
       "8       [VSTM, Investment, hope, emotional, play, PROFIT]\n",
       "9       [AMRN, many, people, make, bearish, posts, you...\n",
       "15                                 [AMRN, short, squeeze]\n",
       "16      [SQ, Glad, sell, 700, shares, Whoot, 5600, USD...\n",
       "17                                           [UGAZ, DGAZ]\n",
       "18      [GE, needs, go, BK, restructure, shell, former...\n",
       "20      [stock, exploding, reason, AMRN, created, amaz...\n",
       "23         [AMRN, Close, short, 1280, reshort, 1325, USD]\n",
       "26                                          [FB, 175, ER]\n",
       "27                   [SQ, I’m, going, retire, early, lol]\n",
       "28                              [AMRN, next, floor, 1150]\n",
       "29              [AMRN, Going, Dowm, Max, 13, 22, deserve]\n",
       "30                [SQ, would, never, imagined, day, like]\n",
       "32      [AMRN, ABSOLUTELY, HUGE, FishOil, Heart, Medic...\n",
       "34                  [AMRN, LETS, SEE, WHO39S, GOT, BALLZ]\n",
       "38                                     [TTD, SQ, awesome]\n",
       "41             [AMRN, 100000000, shares, Simply, awesome]\n",
       "43      [amzn, needs, exact, today, 2000, tomorrow, LE...\n",
       "45                     [AMRN, think, that39s, time, sell]\n",
       "51      [AMZN, using, SNAP, another, source, potential...\n",
       "57      [JONE, bidding, 5k, 650, oil, play, Hope, get,...\n",
       "61        [NKE, wait, till, start, talking, tarriffs, cc]\n",
       "67                       [AMRN, shorted, yesterday, work]\n",
       "69                             [NKE, lol, 😂, told, fools]\n",
       "                              ...                        \n",
       "4796                      [SPY, Trade, deal, guys, close]\n",
       "4797    [BTCX, don’t, mad, u, didn’t, buy, 3200, waiti...\n",
       "4799             [TSLA, 350, might, coming, quickly, imo]\n",
       "4801                                [TSLA, going, higher]\n",
       "4805    [BTCX, despite, recent, crypto, crap, net, wor...\n",
       "4811    [TSLA, WS, looks, forward, Tesla, sales, fall,...\n",
       "4814    [BUCKET, HOLES, PEOPLE, BUCKET, HOLES, AAPL, S...\n",
       "4817    [TSLA, others, think, profit, taking, wise, in...\n",
       "4824    [SPY, keep, shorting, 👌, it’s, worked, well, l...\n",
       "4826    [APHA, Last, buyout, bid, 800, share, think, n...\n",
       "4827    [SPY, let, get, straight, biggest, one, day, r...\n",
       "4829    [SPY, Load, fckin39, calls, Bear, market, 🚀🚀🚀🚀...\n",
       "4831                                [TSLA, going, higher]\n",
       "4835    [BTCX, despite, recent, crypto, crap, net, wor...\n",
       "4841    [TSLA, WS, looks, forward, Tesla, sales, fall,...\n",
       "4844    [BUCKET, HOLES, PEOPLE, BUCKET, HOLES, AAPL, S...\n",
       "4847    [TSLA, others, think, profit, taking, wise, in...\n",
       "4854    [SPY, keep, shorting, 👌, it’s, worked, well, l...\n",
       "4856    [APHA, Last, buyout, bid, 800, share, think, n...\n",
       "4857    [SPY, let, get, straight, biggest, one, day, r...\n",
       "4859    [SPY, Load, fckin39, calls, Bear, market, 🚀🚀🚀🚀...\n",
       "4861                                [TSLA, going, higher]\n",
       "4865    [BTCX, despite, recent, crypto, crap, net, wor...\n",
       "4871    [TSLA, WS, looks, forward, Tesla, sales, fall,...\n",
       "4874    [BUCKET, HOLES, PEOPLE, BUCKET, HOLES, AAPL, S...\n",
       "4877    [TSLA, others, think, profit, taking, wise, in...\n",
       "4884    [SPY, keep, shorting, 👌, it’s, worked, well, l...\n",
       "4886    [APHA, Last, buyout, bid, 800, share, think, n...\n",
       "4887    [SPY, let, get, straight, biggest, one, day, r...\n",
       "4889    [SPY, Load, fckin39, calls, Bear, market, 🚀🚀🚀🚀...\n",
       "Name: stocktwit, Length: 1800, dtype: object"
      ]
     },
     "execution_count": 87,
     "metadata": {},
     "output_type": "execute_result"
    }
   ],
   "source": [
    "#Tokenization\n",
    "df['stocktwit'].apply(text_process)"
   ]
  },
  {
   "cell_type": "markdown",
   "metadata": {},
   "source": [
    "## Vectorization"
   ]
  },
  {
   "cell_type": "code",
   "execution_count": 88,
   "metadata": {},
   "outputs": [],
   "source": [
    "from sklearn.feature_extraction.text import CountVectorizer"
   ]
  },
  {
   "cell_type": "code",
   "execution_count": 89,
   "metadata": {},
   "outputs": [],
   "source": [
    "bow_transformer = CountVectorizer(analyzer=text_process).fit(df['stocktwit'])"
   ]
  },
  {
   "cell_type": "code",
   "execution_count": 90,
   "metadata": {},
   "outputs": [
    {
     "name": "stdout",
     "output_type": "stream",
     "text": [
      "2508\n"
     ]
    }
   ],
   "source": [
    "#Total number of Vocab words\n",
    "print(len(bow_transformer.vocabulary_))"
   ]
  },
  {
   "cell_type": "code",
   "execution_count": 91,
   "metadata": {},
   "outputs": [],
   "source": [
    "message1= df['stocktwit'][0]"
   ]
  },
  {
   "cell_type": "code",
   "execution_count": 92,
   "metadata": {},
   "outputs": [
    {
     "data": {
      "text/plain": [
       "'$DGAZ this is a gift. im going to make so much coin when it reverses.'"
      ]
     },
     "execution_count": 92,
     "metadata": {},
     "output_type": "execute_result"
    }
   ],
   "source": [
    "message1"
   ]
  },
  {
   "cell_type": "code",
   "execution_count": 93,
   "metadata": {},
   "outputs": [
    {
     "data": {
      "text/plain": [
       "'Bullish'"
      ]
     },
     "execution_count": 93,
     "metadata": {},
     "output_type": "execute_result"
    }
   ],
   "source": [
    "df['sentiment'][0]"
   ]
  },
  {
   "cell_type": "code",
   "execution_count": 94,
   "metadata": {},
   "outputs": [],
   "source": [
    "bow4 = bow_transformer.transform([message1])"
   ]
  },
  {
   "cell_type": "code",
   "execution_count": 95,
   "metadata": {},
   "outputs": [
    {
     "name": "stdout",
     "output_type": "stream",
     "text": [
      "  (0, 393)\t1\n",
      "  (0, 1189)\t1\n",
      "  (0, 1452)\t1\n",
      "  (0, 1461)\t1\n",
      "  (0, 1610)\t1\n",
      "  (0, 1747)\t1\n",
      "  (0, 1805)\t1\n",
      "  (0, 2042)\t1\n"
     ]
    }
   ],
   "source": [
    "print(bow4)"
   ]
  },
  {
   "cell_type": "code",
   "execution_count": 96,
   "metadata": {},
   "outputs": [
    {
     "name": "stdout",
     "output_type": "stream",
     "text": [
      "(1, 2508)\n"
     ]
    }
   ],
   "source": [
    "print(bow4.shape)"
   ]
  },
  {
   "cell_type": "code",
   "execution_count": 97,
   "metadata": {},
   "outputs": [
    {
     "name": "stdout",
     "output_type": "stream",
     "text": [
      "01\n"
     ]
    }
   ],
   "source": [
    "print(bow_transformer.get_feature_names()[1])"
   ]
  },
  {
   "cell_type": "code",
   "execution_count": 98,
   "metadata": {},
   "outputs": [],
   "source": [
    "message_bow =bow_transformer.transform(df['stocktwit'])"
   ]
  },
  {
   "cell_type": "code",
   "execution_count": 99,
   "metadata": {},
   "outputs": [
    {
     "name": "stdout",
     "output_type": "stream",
     "text": [
      "  (0, 393)\t1\n",
      "  (0, 1189)\t1\n",
      "  (0, 1452)\t1\n",
      "  (0, 1461)\t1\n",
      "  (0, 1610)\t1\n",
      "  (0, 1747)\t1\n",
      "  (0, 1805)\t1\n",
      "  (0, 2042)\t1\n",
      "  (1, 817)\t1\n",
      "  (1, 839)\t1\n",
      "  (1, 940)\t1\n",
      "  (1, 1264)\t1\n",
      "  (1, 1293)\t1\n",
      "  (1, 1313)\t1\n",
      "  (1, 1512)\t1\n",
      "  (1, 1729)\t1\n",
      "  (1, 1790)\t1\n",
      "  (1, 2106)\t1\n",
      "  (1, 2118)\t1\n",
      "  (1, 2164)\t2\n",
      "  (1, 2209)\t1\n",
      "  (1, 2325)\t2\n",
      "  (2, 244)\t1\n",
      "  (2, 316)\t1\n",
      "  (2, 329)\t1\n",
      "  :\t:\n",
      "  (1797, 2261)\t1\n",
      "  (1798, 436)\t1\n",
      "  (1798, 816)\t1\n",
      "  (1798, 944)\t1\n",
      "  (1798, 1058)\t1\n",
      "  (1798, 1083)\t2\n",
      "  (1798, 1248)\t1\n",
      "  (1798, 1353)\t1\n",
      "  (1798, 1448)\t1\n",
      "  (1798, 1664)\t1\n",
      "  (1798, 1695)\t1\n",
      "  (1798, 1849)\t1\n",
      "  (1798, 1988)\t1\n",
      "  (1798, 2041)\t1\n",
      "  (1798, 2098)\t1\n",
      "  (1798, 2210)\t1\n",
      "  (1798, 2274)\t1\n",
      "  (1798, 2432)\t1\n",
      "  (1799, 296)\t1\n",
      "  (1799, 627)\t1\n",
      "  (1799, 816)\t1\n",
      "  (1799, 1143)\t1\n",
      "  (1799, 1383)\t1\n",
      "  (1799, 1758)\t1\n",
      "  (1799, 2496)\t1\n"
     ]
    }
   ],
   "source": [
    "print(message_bow)"
   ]
  },
  {
   "cell_type": "code",
   "execution_count": 100,
   "metadata": {},
   "outputs": [
    {
     "name": "stdout",
     "output_type": "stream",
     "text": [
      "Shape of Sparse Matrix:  (1800, 2508)\n",
      "Amount of Non-Zero occurences:  14837\n"
     ]
    }
   ],
   "source": [
    "print('Shape of Sparse Matrix: ', message_bow.shape)\n",
    "print('Amount of Non-Zero occurences: ', message_bow.nnz)"
   ]
  },
  {
   "cell_type": "code",
   "execution_count": 101,
   "metadata": {},
   "outputs": [
    {
     "name": "stdout",
     "output_type": "stream",
     "text": [
      "sparsity: 0\n"
     ]
    }
   ],
   "source": [
    "sparsity = (100.0 * message_bow.nnz / (message_bow.shape[0] * message_bow.shape[1]))\n",
    "print('sparsity: {}'.format(round(sparsity)))"
   ]
  },
  {
   "cell_type": "code",
   "execution_count": 102,
   "metadata": {},
   "outputs": [
    {
     "name": "stdout",
     "output_type": "stream",
     "text": [
      "  (0, 2042)\t0.41028776457510446\n",
      "  (0, 1805)\t0.3118663323365249\n",
      "  (0, 1747)\t0.30094842449200476\n",
      "  (0, 1610)\t0.41028776457510446\n",
      "  (0, 1461)\t0.23144903804716996\n",
      "  (0, 1452)\t0.3738413178807379\n",
      "  (0, 1189)\t0.41028776457510446\n",
      "  (0, 393)\t0.3373948711863713\n"
     ]
    }
   ],
   "source": [
    "from sklearn.feature_extraction.text import TfidfTransformer\n",
    "\n",
    "tfidf_transformer = TfidfTransformer().fit(message_bow)\n",
    "tfidf4 = tfidf_transformer.transform(bow4)\n",
    "print(tfidf4)"
   ]
  },
  {
   "cell_type": "code",
   "execution_count": 103,
   "metadata": {},
   "outputs": [],
   "source": [
    "# print(tfidf_transformer.idf_[bow_transformer.vocabulary_['Bullish']])\n",
    "# print(tfidf_transformer.idf_[bow_transformer.vocabulary_['Bearish']])"
   ]
  },
  {
   "cell_type": "code",
   "execution_count": 104,
   "metadata": {},
   "outputs": [
    {
     "name": "stdout",
     "output_type": "stream",
     "text": [
      "(1800, 2508)\n"
     ]
    }
   ],
   "source": [
    "messages_tfidf = tfidf_transformer.transform(message_bow)\n",
    "print(messages_tfidf.shape)"
   ]
  },
  {
   "cell_type": "markdown",
   "metadata": {},
   "source": [
    "## Model Training"
   ]
  },
  {
   "cell_type": "code",
   "execution_count": 105,
   "metadata": {},
   "outputs": [],
   "source": [
    "from sklearn.naive_bayes import MultinomialNB"
   ]
  },
  {
   "cell_type": "code",
   "execution_count": 106,
   "metadata": {},
   "outputs": [],
   "source": [
    "detect_model = MultinomialNB().fit(messages_tfidf, df['sentiment'])"
   ]
  },
  {
   "cell_type": "code",
   "execution_count": 107,
   "metadata": {},
   "outputs": [
    {
     "name": "stdout",
     "output_type": "stream",
     "text": [
      "predicted: Bullish\n",
      "expected: $DGAZ this is a gift. im going to make so much coin when it reverses.\n"
     ]
    }
   ],
   "source": [
    "print('predicted:', detect_model.predict(tfidf4)[0])\n",
    "print('expected:', df.stocktwit[0])"
   ]
  },
  {
   "cell_type": "markdown",
   "metadata": {},
   "source": [
    "## Model Evaluation"
   ]
  },
  {
   "cell_type": "code",
   "execution_count": 108,
   "metadata": {},
   "outputs": [
    {
     "name": "stdout",
     "output_type": "stream",
     "text": [
      "['Bullish' 'Bullish' 'Bullish' ... 'Bullish' 'Bullish' 'Bullish']\n"
     ]
    }
   ],
   "source": [
    "all_predictions = detect_model.predict(messages_tfidf)\n",
    "print(all_predictions)"
   ]
  },
  {
   "cell_type": "markdown",
   "metadata": {},
   "source": [
    "## Using sklearn classification Report"
   ]
  },
  {
   "cell_type": "code",
   "execution_count": 109,
   "metadata": {},
   "outputs": [
    {
     "name": "stdout",
     "output_type": "stream",
     "text": [
      "              precision    recall  f1-score   support\n",
      "\n",
      "     Bearish       0.99      0.87      0.92       558\n",
      "     Bullish       0.94      1.00      0.97      1242\n",
      "\n",
      "   micro avg       0.96      0.96      0.96      1800\n",
      "   macro avg       0.97      0.93      0.95      1800\n",
      "weighted avg       0.96      0.96      0.96      1800\n",
      "\n"
     ]
    }
   ],
   "source": [
    "from sklearn.metrics import classification_report\n",
    "print (classification_report(df['sentiment'], all_predictions))"
   ]
  },
  {
   "cell_type": "markdown",
   "metadata": {},
   "source": [
    "## Splitting Data into train and test set 70/30"
   ]
  },
  {
   "cell_type": "code",
   "execution_count": 124,
   "metadata": {},
   "outputs": [
    {
     "name": "stdout",
     "output_type": "stream",
     "text": [
      "1260 540 1800\n"
     ]
    }
   ],
   "source": [
    "from sklearn.model_selection import train_test_split\n",
    "\n",
    "msg_train, msg_test, sentiment_train, sentiment_test = \\\n",
    "train_test_split(df['stocktwit'], df['sentiment'], test_size=0.3)\n",
    "\n",
    "print(len(msg_train), len(msg_test), len(msg_train) + len(msg_test))"
   ]
  },
  {
   "cell_type": "markdown",
   "metadata": {},
   "source": [
    "## Splitting Data into train and test set 80/20"
   ]
  },
  {
   "cell_type": "code",
   "execution_count": 125,
   "metadata": {},
   "outputs": [],
   "source": [
    "# from sklearn.model_selection import train_test_split\n",
    "\n",
    "# msg_train, msg_test, sentiment_train, sentiment_test = \\\n",
    "# train_test_split(df['stocktwit'], df['sentiment'], test_size=0.2)\n",
    "\n",
    "# print(len(msg_train), len(msg_test), len(msg_train) + len(msg_test))"
   ]
  },
  {
   "cell_type": "code",
   "execution_count": 126,
   "metadata": {},
   "outputs": [
    {
     "name": "stdout",
     "output_type": "stream",
     "text": [
      "msg_train: 1260\n",
      "msg_test: 540\n",
      "msg_train + msg_test: 1800\n"
     ]
    }
   ],
   "source": [
    "print('msg_train:', len(msg_train))\n",
    "print('msg_test:', len(msg_test))\n",
    "print('msg_train + msg_test:', (len(msg_train)+len(msg_test)))"
   ]
  },
  {
   "cell_type": "markdown",
   "metadata": {},
   "source": [
    "### (Creating Data Pipeline) This enables us to set up all transformations that will be done to the data."
   ]
  },
  {
   "cell_type": "code",
   "execution_count": 127,
   "metadata": {},
   "outputs": [],
   "source": [
    "from sklearn.pipeline import Pipeline\n",
    "\n",
    "pipeline = Pipeline([\n",
    "    ('bow', CountVectorizer(analyzer=text_process)),  # strings to token integer counts\n",
    "    ('tfidf', TfidfTransformer()),  # integer counts to weighted TF-IDF scores\n",
    "    ('classifier', MultinomialNB()),  # train on TF-IDF vectors w/ Naive Bayes classifier\n",
    "])"
   ]
  },
  {
   "cell_type": "code",
   "execution_count": 128,
   "metadata": {},
   "outputs": [
    {
     "data": {
      "text/plain": [
       "Pipeline(memory=None,\n",
       "     steps=[('bow', CountVectorizer(analyzer=<function text_process at 0x1a17a2e840>,\n",
       "        binary=False, decode_error='strict', dtype=<class 'numpy.int64'>,\n",
       "        encoding='utf-8', input='content', lowercase=True, max_df=1.0,\n",
       "        max_features=None, min_df=1, ngram_range=(1, 1), preprocessor=None...f=False, use_idf=True)), ('classifier', MultinomialNB(alpha=1.0, class_prior=None, fit_prior=True))])"
      ]
     },
     "execution_count": 128,
     "metadata": {},
     "output_type": "execute_result"
    }
   ],
   "source": [
    "pipeline.fit(msg_train,sentiment_train)"
   ]
  },
  {
   "cell_type": "code",
   "execution_count": 129,
   "metadata": {},
   "outputs": [],
   "source": [
    "predictions = pipeline.predict(msg_test)"
   ]
  },
  {
   "cell_type": "code",
   "execution_count": null,
   "metadata": {},
   "outputs": [],
   "source": []
  },
  {
   "cell_type": "code",
   "execution_count": null,
   "metadata": {},
   "outputs": [],
   "source": []
  },
  {
   "cell_type": "code",
   "execution_count": null,
   "metadata": {},
   "outputs": [],
   "source": []
  },
  {
   "cell_type": "code",
   "execution_count": null,
   "metadata": {},
   "outputs": [],
   "source": []
  },
  {
   "cell_type": "code",
   "execution_count": 130,
   "metadata": {},
   "outputs": [],
   "source": [
    "from sklearn.pipeline import Pipeline\n",
    "\n",
    "pipeline = Pipeline([\n",
    "    ('bow', CountVectorizer(analyzer=text_process)),  # strings to token integer counts\n",
    "    ('tfidf', TfidfTransformer()),  # integer counts to weighted TF-IDF scores\n",
    "    ('classifier', MultinomialNB()),  # train on TF-IDF vectors w/ Naive Bayes classifier\n",
    "])"
   ]
  },
  {
   "cell_type": "code",
   "execution_count": 131,
   "metadata": {},
   "outputs": [
    {
     "data": {
      "text/plain": [
       "Pipeline(memory=None,\n",
       "     steps=[('bow', CountVectorizer(analyzer=<function text_process at 0x1a17a2e840>,\n",
       "        binary=False, decode_error='strict', dtype=<class 'numpy.int64'>,\n",
       "        encoding='utf-8', input='content', lowercase=True, max_df=1.0,\n",
       "        max_features=None, min_df=1, ngram_range=(1, 1), preprocessor=None...f=False, use_idf=True)), ('classifier', MultinomialNB(alpha=1.0, class_prior=None, fit_prior=True))])"
      ]
     },
     "execution_count": 131,
     "metadata": {},
     "output_type": "execute_result"
    }
   ],
   "source": [
    "pipeline.fit(msg_train,sentiment_train)"
   ]
  },
  {
   "cell_type": "code",
   "execution_count": 132,
   "metadata": {},
   "outputs": [],
   "source": [
    "predictions = pipeline.predict(msg_test)"
   ]
  },
  {
   "cell_type": "code",
   "execution_count": 133,
   "metadata": {},
   "outputs": [
    {
     "name": "stdout",
     "output_type": "stream",
     "text": [
      "              precision    recall  f1-score   support\n",
      "\n",
      "     Bearish       0.73      0.95      0.83       124\n",
      "     Bullish       0.98      0.90      0.94       416\n",
      "\n",
      "   micro avg       0.91      0.91      0.91       540\n",
      "   macro avg       0.86      0.92      0.88       540\n",
      "weighted avg       0.93      0.91      0.91       540\n",
      "\n"
     ]
    }
   ],
   "source": [
    "print(classification_report(predictions,sentiment_test))"
   ]
  },
  {
   "cell_type": "code",
   "execution_count": 134,
   "metadata": {},
   "outputs": [
    {
     "data": {
      "text/plain": [
       "241"
      ]
     },
     "execution_count": 134,
     "metadata": {},
     "output_type": "execute_result"
    }
   ],
   "source": [
    "df['length'].max()"
   ]
  },
  {
   "cell_type": "code",
   "execution_count": 60,
   "metadata": {},
   "outputs": [
    {
     "data": {
      "text/plain": [
       "<matplotlib.collections.PathCollection at 0x1a178f8320>"
      ]
     },
     "execution_count": 60,
     "metadata": {},
     "output_type": "execute_result"
    },
    {
     "data": {
      "image/png": "[encoded data removed]",
      "text/plain": [
       "<Figure size 432x288 with 1 Axes>"
      ]
     },
     "metadata": {
      "needs_background": "light"
     },
     "output_type": "display_data"
    }
   ],
   "source": [
    "plt.scatter(data=df, x='sentiment', y='length',cmap='coolwarm')"
   ]
  },
  {
   "cell_type": "code",
   "execution_count": null,
   "metadata": {},
   "outputs": [],
   "source": []
  },
  {
   "cell_type": "code",
   "execution_count": null,
   "metadata": {},
   "outputs": [],
   "source": []
  }
 ],
 "metadata": {
  "kernelspec": {
   "display_name": "Python 3",
   "language": "python",
   "name": "python3"
  },
  "language_info": {
   "codemirror_mode": {
    "name": "ipython",
    "version": 3
   },
   "file_extension": ".py",
   "mimetype": "text/x-python",
   "name": "python",
   "nbconvert_exporter": "python",
   "pygments_lexer": "ipython3",
   "version": "3.8.8"
  }
 },
 "nbformat": 4,
 "nbformat_minor": 2
}
